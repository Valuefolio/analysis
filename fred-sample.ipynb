{
 "cells": [
  {
   "cell_type": "markdown",
   "id": "c7950fd5",
   "metadata": {},
   "source": [
    "# FRED Data 시각화 샘플 1\n",
    "## 라이브러리 import\n",
    " FRED 에서 제공하는 데이터를 조회할 수 있는 라이브러리 및 데이터 시각화를 위한 라이브러리를 import 합니다. "
   ]
  },
  {
   "cell_type": "code",
   "execution_count": 1,
   "id": "29ba88a8",
   "metadata": {},
   "outputs": [],
   "source": [
    "from fredapi import Fred\n",
    "import ssl\n",
    "import pandas as pd\n",
    "import matplotlib.pyplot as plt\n",
    "import numpy as np\n",
    "import matplotlib.patches as patches\n"
   ]
  },
  {
   "cell_type": "markdown",
   "id": "ca92422c",
   "metadata": {},
   "source": [
    "## dgs2 데이터 조회"
   ]
  },
  {
   "cell_type": "code",
   "execution_count": 2,
   "id": "f85fe789",
   "metadata": {},
   "outputs": [
    {
     "name": "stdout",
     "output_type": "stream",
     "text": [
      "1976-06-01    7.26\n",
      "1976-06-02    7.23\n",
      "1976-06-03    7.22\n",
      "1976-06-04    7.12\n",
      "1976-06-07    7.09\n",
      "              ... \n",
      "2023-04-21    4.17\n",
      "2023-04-24    4.12\n",
      "2023-04-25    3.86\n",
      "2023-04-26    3.90\n",
      "2023-04-27    4.07\n",
      "Name: dgs2, Length: 12238, dtype: float64\n"
     ]
    }
   ],
   "source": [
    "ssl._create_default_https_context = ssl._create_unverified_context # ssl 오류가 나는 경우를 대비하여 추가란 라인 \n",
    "fred = Fred(api_key='c004ac8ee90e9e1b19422e7fb5562dde')\n",
    "dgs2 = fred.get_series('DGS2',verify=False)\n",
    "dgs2.name='dgs2'\n",
    "print(dgs2)"
   ]
  },
  {
   "cell_type": "markdown",
   "id": "b72666b7",
   "metadata": {},
   "source": [
    "## dgs10 데이터 조회"
   ]
  },
  {
   "cell_type": "code",
   "execution_count": 3,
   "id": "3e5443b2",
   "metadata": {},
   "outputs": [
    {
     "name": "stdout",
     "output_type": "stream",
     "text": [
      "1962-01-02    4.06\n",
      "1962-01-03    4.03\n",
      "1962-01-04    3.99\n",
      "1962-01-05    4.02\n",
      "1962-01-08    4.03\n",
      "              ... \n",
      "2023-04-21    3.57\n",
      "2023-04-24    3.52\n",
      "2023-04-25    3.40\n",
      "2023-04-26    3.43\n",
      "2023-04-27    3.53\n",
      "Name: dgs10, Length: 15998, dtype: float64\n"
     ]
    }
   ],
   "source": [
    "dgs10 = fred.get_series('DGS10')\n",
    "dgs10.name='dgs10'\n",
    "print(dgs10)"
   ]
  },
  {
   "cell_type": "markdown",
   "id": "d65e42a6",
   "metadata": {},
   "source": [
    "## t102y 데이터 조회"
   ]
  },
  {
   "cell_type": "code",
   "execution_count": 4,
   "id": "c0c1ef7e",
   "metadata": {},
   "outputs": [
    {
     "name": "stdout",
     "output_type": "stream",
     "text": [
      "1976-06-01    0.68\n",
      "1976-06-02    0.71\n",
      "1976-06-03    0.70\n",
      "1976-06-04    0.77\n",
      "1976-06-07    0.79\n",
      "              ... \n",
      "2023-04-24   -0.60\n",
      "2023-04-25   -0.46\n",
      "2023-04-26   -0.47\n",
      "2023-04-27   -0.54\n",
      "2023-04-28   -0.60\n",
      "Name: t10y2y, Length: 12239, dtype: float64\n"
     ]
    }
   ],
   "source": [
    "t10y2y = fred.get_series('T10y2Y')\n",
    "t10y2y.name='t10y2y'\n",
    "print(t10y2y)"
   ]
  },
  {
   "cell_type": "markdown",
   "id": "0daf5143",
   "metadata": {},
   "source": [
    "## dgs2, dgs10, t10y2y 데이터 머지"
   ]
  },
  {
   "cell_type": "markdown",
   "id": "0b1ab64b",
   "metadata": {},
   "source": [
    "세가지 종류의 데이터를 하나의 dataframe 으로 합치려고 합니다. 고려 사항이 있습니다.  각각의 데이터는 시간 데이터르 index  로 갖고 있는 시계열 데이터입니다. 세가지 종류의 데이터를 merge 할 때 각각의 데이터에서 동일한 날짜를 갖고 있는 데이터만 merge 하려고 합니다. 이 정책에 대해서는 논의가 필요해 보입니다. "
   ]
  },
  {
   "cell_type": "code",
   "execution_count": 5,
   "id": "9f45c88e",
   "metadata": {},
   "outputs": [
    {
     "name": "stdout",
     "output_type": "stream",
     "text": [
      "            dgs2  dgs10  t10y2y\n",
      "1976-06-01  7.26   7.94    0.68\n",
      "1976-06-02  7.23   7.94    0.71\n",
      "1976-06-03  7.22   7.92    0.70\n",
      "1976-06-04  7.12   7.89    0.77\n",
      "1976-06-07  7.09   7.88    0.79\n",
      "...          ...    ...     ...\n",
      "2023-04-21  4.17   3.57   -0.60\n",
      "2023-04-24  4.12   3.52   -0.60\n",
      "2023-04-25  3.86   3.40   -0.46\n",
      "2023-04-26  3.90   3.43   -0.47\n",
      "2023-04-27  4.07   3.53   -0.54\n",
      "\n",
      "[12238 rows x 3 columns]\n"
     ]
    }
   ],
   "source": [
    "df_dg = pd.merge(dgs2, dgs10, left_index=True, right_index=True, how='inner') \\\n",
    "          .merge(t10y2y, left_index=True,right_index=True,how='inner') \n",
    "\n",
    "print(df_dg)"
   ]
  },
  {
   "cell_type": "markdown",
   "id": "d1247551",
   "metadata": {},
   "source": [
    "## USREC 데이터 조회"
   ]
  },
  {
   "cell_type": "code",
   "execution_count": 6,
   "id": "54072fb2",
   "metadata": {},
   "outputs": [
    {
     "name": "stdout",
     "output_type": "stream",
     "text": [
      "            usrec\n",
      "1854-12-01    1.0\n",
      "1855-01-01    0.0\n",
      "1855-02-01    0.0\n",
      "1855-03-01    0.0\n",
      "1855-04-01    0.0\n",
      "...           ...\n",
      "2022-11-01    0.0\n",
      "2022-12-01    0.0\n",
      "2023-01-01    0.0\n",
      "2023-02-01    0.0\n",
      "2023-03-01    0.0\n",
      "\n",
      "[2020 rows x 1 columns]\n"
     ]
    }
   ],
   "source": [
    "usrec = fred.get_series('USREC')\n",
    "usrec.name='usrec'\n",
    "#dataframe 으로 변환\n",
    "df_usrec = pd.DataFrame({'usrec' : usrec})\n",
    "print(df_usrec)"
   ]
  },
  {
   "cell_type": "code",
   "execution_count": 7,
   "id": "e58549c2",
   "metadata": {},
   "outputs": [
    {
     "ename": "SyntaxError",
     "evalue": "invalid syntax (<ipython-input-7-19b833fed84e>, line 1)",
     "output_type": "error",
     "traceback": [
      "\u001b[0;36m  File \u001b[0;32m\"<ipython-input-7-19b833fed84e>\"\u001b[0;36m, line \u001b[0;32m1\u001b[0m\n\u001b[0;31m    차트를 그릴 때 y축의 최대값을 직접 설정하기 위해서 dgs2 데이터와 dgs10 데이터의 max 값을 구한 후 + 10 을 해주었습니다.\u001b[0m\n\u001b[0m        ^\u001b[0m\n\u001b[0;31mSyntaxError\u001b[0m\u001b[0;31m:\u001b[0m invalid syntax\n"
     ]
    }
   ],
   "source": [
    "차트를 그릴 때 y축의 최대값을 직접 설정하기 위해서 dgs2 데이터와 dgs10 데이터의 max 값을 구한 후 + 10 을 해주었습니다. "
   ]
  },
  {
   "cell_type": "code",
   "execution_count": null,
   "id": "f9b0b4ea",
   "metadata": {},
   "outputs": [],
   "source": [
    "max_value = df_dg['dgs2'].max() + 10.0 if df_dg['dgs2'].max() > df_dg['dgs10'].max() else  df_dg['dgs10'].max() + 10.0"
   ]
  },
  {
   "cell_type": "markdown",
   "id": "4a6c946e",
   "metadata": {},
   "source": [
    "df_usrec 데이터를 기준으로 df_dg 데이터프레임에 경기침체를 표시하는 컬럼을 추가합니다. 경기침체가 있는 기간을 막대그래프로 표시하기 위하여\n",
    "df_dg 데이터셋에 'usrec' 란 컬럼을 추가하고 해당 컬럼에 경기침체 여부를 나타내는 값 (1 / 0) 을 채울 계획입니다. \n",
    "우선 df_usrec 데이터를 살펴 보면  매달 1 일을 기준으로 경기침체 여부에 대한 값을 갖고 있습니다. df_dg 데이터셋에서는 예를 들어 '2023-03-23' 일의 경기 침체 여부값을 설정하려면, df_usrec 데이터셋에서 '2023-03-01' 에 해당하는 값을 읽어와야 합니다. \n",
    "아래 코드는 해당 과정을 수행하는 코드입니다. 아직 FRED 에서는 2023-04-01 기준 데이터가 없어서 2023-04 월에 해당하는 데이터에 대해서는 경기 침체 여부값을 설정할 수 없으며 나머지 데이터에 대해서는 성공적으로 작업이 수행되었음을 확인할 수 있습니다."
   ]
  },
  {
   "cell_type": "code",
   "execution_count": null,
   "id": "f5722a33",
   "metadata": {},
   "outputs": [],
   "source": [
    "for index in df_dg.index:\n",
    "    first_day_of_month = index.replace(day=1)  # 해당 날짜 index 에서 날짜만 1로 변경 \n",
    "    if first_day_of_month in df_usrec.index:\n",
    "        df_dg.loc[index, 'usrec'] = df_usrec.loc[first_day_of_month, 'usrec']\n",
    "    else:\n",
    "        print('no matching row for ' + first_day_of_month.strftime('%Y-%m-%d'))\n",
    "print(df_dg)"
   ]
  },
  {
   "cell_type": "code",
   "execution_count": null,
   "id": "9eab13d5",
   "metadata": {},
   "outputs": [],
   "source": [
    "이제 모든 준비가 되었습니다. 분석할 내용에 대한 차트를 생성합니다."
   ]
  },
  {
   "cell_type": "code",
   "execution_count": null,
   "id": "58410be0",
   "metadata": {},
   "outputs": [],
   "source": [
    "# set chart size \n",
    "fig = plt.figure(figsize=(15, 10))\n",
    "CB91_Blue = '#2CBDFE'\n",
    "CB91_Green = '#47DBCD'\n",
    "CB91_Pink = '#F3A0F2'\n",
    "CB91_Purple = '#9D2EC5'\n",
    "CB91_Violet = '#661D98'\n",
    "CB91_Amber = '#F5B14C'\n",
    "\n",
    "# create the first axis object\n",
    "ax1 = fig.add_subplot()\n",
    "# create the first line using the first y-axis\n",
    "ax1.plot( df_dg['t10y2y'], color=CB91_Blue,label='t102y')\n",
    "ax1.set_xlabel('year')\n",
    "ax1.set_ylabel('t102y')\n",
    "ax1.axhline(y=0, color='gray', linestyle='--')\n",
    "# create a second axis object and set the y-axis label\n",
    "ax2 = ax1.twinx()\n",
    "\n",
    "# create the second line using the second y-axis\n",
    "ax2.plot(df_dg['dgs2'], color= CB91_Purple,label='dgs2')\n",
    "ax2.plot(df_dg['dgs10'], color= CB91_Amber,label='dgs10')\n",
    "# Find continuous sections where 'col1' is 1\n",
    "sections = []\n",
    "start_date = None\n",
    "for date, value in df_dg['usrec'].iteritems():\n",
    "    if value == 1.0:\n",
    "        if start_date is None:\n",
    "            start_date = date\n",
    "    else:\n",
    "        if start_date is not None:\n",
    "            sections.append((start_date, date - pd.Timedelta(days=1)))\n",
    "            start_date = None\n",
    "\n",
    "if start_date is not None and df_dg.iloc[-1]['usrec'] == 1.0 :\n",
    "    sections.append((start_date, df_dg.index[-1]))\n",
    "\n",
    "# Create the bar graph for each continuous section\n",
    "for section in sections:\n",
    "    ax2.bar([section[0]], max_value, width=(section[1] - section[0]), color = CB91_Green, alpha=0.3)\n",
    "\n",
    "# Set labels and title\n",
    "plt.xlabel('Date')\n",
    "plt.ylabel('Value')\n",
    "plt.title('Test Report')\n",
    "\n",
    "# set legend\n",
    "lines, labels = ax1.get_legend_handles_labels()\n",
    "lines2, labels2 = ax2.get_legend_handles_labels()\n",
    "ax2.legend(lines + lines2, labels + labels2, loc=0)\n",
    "\n",
    "\n",
    "# display the plot\n",
    "plt.show()"
   ]
  }
 ],
 "metadata": {
  "kernelspec": {
   "display_name": "Python 3",
   "language": "python",
   "name": "python3"
  },
  "language_info": {
   "codemirror_mode": {
    "name": "ipython",
    "version": 3
   },
   "file_extension": ".py",
   "mimetype": "text/x-python",
   "name": "python",
   "nbconvert_exporter": "python",
   "pygments_lexer": "ipython3",
   "version": "3.8.8"
  }
 },
 "nbformat": 4,
 "nbformat_minor": 5
}
